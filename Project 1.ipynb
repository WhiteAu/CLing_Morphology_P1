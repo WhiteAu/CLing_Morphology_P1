{
 "metadata": {
  "name": "Project 1"
 },
 "nbformat": 3,
 "nbformat_minor": 0,
 "worksheets": [
  {
   "cells": [
    {
     "cell_type": "heading",
     "level": 1,
     "metadata": {},
     "source": [
      "Segmenting an Unknown Language (3rd part)"
     ]
    },
    {
     "cell_type": "heading",
     "level": 2,
     "metadata": {},
     "source": [
      "Understanding bigramSourceModel"
     ]
    },
    {
     "cell_type": "markdown",
     "metadata": {},
     "source": [
      "Import bengali.py and create a very simple segmentations array."
     ]
    },
    {
     "cell_type": "code",
     "collapsed": false,
     "input": [
      "from bengali import *\n",
      "\n",
      "segs = ['ace+ed']\n",
      "(fsa,vocab,lm) = bigramSourceModel2(segs)"
     ],
     "language": "python",
     "metadata": {},
     "outputs": [],
     "prompt_number": 1
    },
    {
     "cell_type": "heading",
     "level": 3,
     "metadata": {},
     "source": [
      "vocab"
     ]
    },
    {
     "cell_type": "markdown",
     "metadata": {},
     "source": [
      "*vocab* is a dict used as a set to keep track of all the characters seen in segs."
     ]
    },
    {
     "cell_type": "code",
     "collapsed": false,
     "input": [
      "vocab"
     ],
     "language": "python",
     "metadata": {},
     "outputs": [
      {
       "output_type": "pyout",
       "prompt_number": 2,
       "text": [
        "{'+': 1, 'a': 1, 'c': 1, 'd': 1, 'e': 1, 'end': 1}"
       ]
      }
     ],
     "prompt_number": 2
    },
    {
     "cell_type": "heading",
     "level": 3,
     "metadata": {},
     "source": [
      "lm"
     ]
    },
    {
     "cell_type": "markdown",
     "metadata": {},
     "source": [
      "*lm* holds the normalized character bigram model probabilities \n",
      "\n",
      "$\\forall{c\\in lm[h]}\\quad lm[h][c]=P(c|h)$\n",
      "\n",
      "For example, *a* is only followed by *c* in *ac+ed* and *e* is followed by both *+* and *d*.  The reason why the other letters have non-zero values is smoothing."
     ]
    },
    {
     "cell_type": "code",
     "collapsed": false,
     "input": [
      "print lm['a']\n",
      "print lm['e']"
     ],
     "language": "python",
     "metadata": {},
     "outputs": [
      {
       "output_type": "stream",
       "stream": "stdout",
       "text": [
        "{'a': 0.125, 'c': 0.375, 'end': 0.125, 'd': 0.125, '+': 0.125, 'e': 0.125}\n",
        "{'a': 0.1, 'c': 0.1, 'end': 0.1, 'd': 0.3, '+': 0.3, 'e': 0.1}\n"
       ]
      }
     ],
     "prompt_number": 3
    },
    {
     "cell_type": "markdown",
     "metadata": {},
     "source": [
      "*a* follows *start* and *end* follows *d*, but because of smoothing, *end* also follows *start*."
     ]
    },
    {
     "cell_type": "code",
     "collapsed": false,
     "input": [
      "print lm['start']\n",
      "print lm['d']"
     ],
     "language": "python",
     "metadata": {},
     "outputs": [
      {
       "output_type": "stream",
       "stream": "stdout",
       "text": [
        "{'a': 0.375, 'c': 0.125, 'end': 0.125, 'd': 0.125, '+': 0.125, 'e': 0.125}\n",
        "{'a': 0.125, 'c': 0.125, 'e': 0.125, 'd': 0.125, '+': 0.125, 'end': 0.375}\n"
       ]
      }
     ],
     "prompt_number": 4
    },
    {
     "cell_type": "heading",
     "level": 3,
     "metadata": {},
     "source": [
      "fsm"
     ]
    },
    {
     "cell_type": "markdown",
     "metadata": {},
     "source": [
      "Nodes have integer ids."
     ]
    },
    {
     "cell_type": "code",
     "collapsed": false,
     "input": [
      "print \"%d nodes\"%fsa.N\n",
      "print fsa.nodes"
     ],
     "language": "python",
     "metadata": {},
     "outputs": [
      {
       "output_type": "stream",
       "stream": "stdout",
       "text": [
        "7 nodes\n",
        "{'a': 3, 'c': 4, 'end': 2, 'd': 5, '+': 6, 'start': 1, 'e': 7}\n"
       ]
      }
     ],
     "prompt_number": 5
    },
    {
     "cell_type": "markdown",
     "metadata": {},
     "source": [
      "Edges.  Here are all the edges starting from *start* and *a*.  (Not sure why each edge dict is held in an array.  Could there be more than one?)"
     ]
    },
    {
     "cell_type": "code",
     "collapsed": false,
     "input": [
      "print \"%d edges\"%fsa.M\n",
      "for fromNode in ['start','a']:\n",
      "    for toNode in fsa.edges[fromNode]:\n",
      "        (consume,emit,probability) = fsa.edges[fromNode][toNode][0]\n",
      "        print \"%s ----%s:%s---P=%f----> %s\" % (fromNode,consume,emit,probability,toNode)"
     ],
     "language": "python",
     "metadata": {},
     "outputs": [
      {
       "output_type": "stream",
       "stream": "stdout",
       "text": [
        "36 edges\n",
        "start ----a:None---P=0.375000----> a\n",
        "start ----c:None---P=0.125000----> c\n",
        "start ----e:None---P=0.125000----> e\n",
        "start ----d:None---P=0.125000----> d\n",
        "start ----+:None---P=0.125000----> +\n",
        "start ----None:None---P=0.125000----> end\n",
        "a ----a:None---P=0.125000----> a\n",
        "a ----c:None---P=0.375000----> c\n",
        "a ----e:None---P=0.125000----> e\n",
        "a ----d:None---P=0.125000----> d\n",
        "a ----+:None---P=0.125000----> +\n",
        "a ----None:None---P=0.125000----> end\n"
       ]
      }
     ],
     "prompt_number": 6
    },
    {
     "cell_type": "heading",
     "level": 3,
     "metadata": {},
     "source": [
      "Test with stipidChannelModel"
     ]
    },
    {
     "cell_type": "markdown",
     "metadata": {},
     "source": [
      "Make a corresponding words array, and test with *stupidChannelModel*.  Not sure if this is working, and if not then why."
     ]
    },
    {
     "cell_type": "code",
     "collapsed": false,
     "input": [
      "words = ['aced']\n",
      "fst = stupidChannelModel(words,segs)\n",
      "\n",
      "preTrainOutput = FSM.runFST([fsa,fst],words,quiet=True)\n",
      "for i in range(len(preTrainOutput)):\n",
      "    if len(preTrainOutput[i]) == 0: preTrainOutput[i] = words[i]\n",
      "    else:                           preTrainOutput[i] = preTrainOutput[i][0]\n",
      "preTrainEval   = evaluate(segs, preTrainOutput)\n",
      "print 'before training, P/R/F = ', str(preTrainEval)\n"
     ],
     "language": "python",
     "metadata": {},
     "outputs": [
      {
       "output_type": "stream",
       "stream": "stdout",
       "text": [
        "executing:  /Users/alex/opt/carmel_graehl/carmel/bin/macosx/carmel -rIQEb -k 1 .tmp.fst.0 .tmp.fst.1 .tmp.fst.strings > .tmp.output\n",
        "before training, P/R/F =  (1.0, 0.0, 0.0)\n"
       ]
      }
     ],
     "prompt_number": 7
    },
    {
     "cell_type": "heading",
     "level": 2,
     "metadata": {},
     "source": [
      "Understanding buildSegmentChannelModel"
     ]
    },
    {
     "cell_type": "heading",
     "level": 1,
     "metadata": {},
     "source": [
      "Fancy Channel"
     ]
    },
    {
     "cell_type": "code",
     "collapsed": false,
     "input": [
      "segs = ['ad+s']\n",
      "words = ['ads']\n",
      "(fsa,vocab,lm) = fancyChannelModel2(words,segs)"
     ],
     "language": "python",
     "metadata": {},
     "outputs": [],
     "prompt_number": 8
    },
    {
     "cell_type": "heading",
     "level": 1,
     "metadata": {},
     "source": [
      "Fancy Source"
     ]
    },
    {
     "cell_type": "code",
     "collapsed": false,
     "input": [
      "(fsa,vocab,lm) = fancySourceModel2(segs)"
     ],
     "language": "python",
     "metadata": {},
     "outputs": []
    }
   ],
   "metadata": {}
  }
 ]
}